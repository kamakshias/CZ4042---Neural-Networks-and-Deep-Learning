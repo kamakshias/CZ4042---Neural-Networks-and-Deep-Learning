{
  "nbformat": 4,
  "nbformat_minor": 0,
  "metadata": {
    "colab": {
      "name": "CelebA Pretraining.ipynb",
      "provenance": [],
      "machine_shape": "hm"
    },
    "kernelspec": {
      "name": "python3",
      "display_name": "Python 3"
    },
    "language_info": {
      "name": "python"
    },
    "accelerator": "GPU"
  },
  "cells": [
    {
      "cell_type": "code",
      "metadata": {
        "id": "6RvxhUSVtJAY"
      },
      "source": [
        "import os\n",
        "import sys\n",
        "import tempfile\n",
        "import urllib\n",
        "\n",
        "import tensorflow as tf\n",
        "from tensorflow import keras\n",
        "from tensorflow.keras.layers import Dense,Conv2D,MaxPooling2D,Flatten,Dropout,BatchNormalization,Lambda\n",
        "from tensorflow.keras import Sequential\n",
        "from keras.regularizers import l2\n",
        "\n",
        "from tensorflow.keras.callbacks import Callback\n",
        "from keras.callbacks import ModelCheckpoint\n",
        "from keras.callbacks import EarlyStopping\n",
        "\n",
        "import tensorflow_datasets as tfds\n",
        "tfds.disable_progress_bar()\n",
        "\n",
        "import numpy as np\n",
        "import pandas as pd\n",
        "from google.colab import files\n"
      ],
      "execution_count": 19,
      "outputs": []
    },
    {
      "cell_type": "code",
      "metadata": {
        "colab": {
          "base_uri": "https://localhost:8080/"
        },
        "id": "p0iafVLst-xv",
        "outputId": "3eb2a9e1-b734-456e-c661-ca80ac5262b5"
      },
      "source": [
        "gcs_base_dir = \"gs://celeb_a_dataset/\"\n",
        "celeb_a_builder = tfds.builder(\"celeb_a\", data_dir=gcs_base_dir, version='2.0.0')\n",
        "\n",
        "celeb_a_builder.download_and_prepare()\n",
        "\n",
        "num_test_shards_dict = {'0.3.0': 4, '2.0.0': 2} # Used because we download the test dataset separately\n",
        "version = str(celeb_a_builder.info.version)\n",
        "print('Celeb_A dataset version: %s' % version)"
      ],
      "execution_count": 3,
      "outputs": [
        {
          "output_type": "stream",
          "name": "stdout",
          "text": [
            "Celeb_A dataset version: 2.0.0\n"
          ]
        }
      ]
    },
    {
      "cell_type": "code",
      "metadata": {
        "id": "gFHyjTZ-upek"
      },
      "source": [
        "local_root = tempfile.mkdtemp(prefix='test-data')\n",
        "def local_test_filename_base():\n",
        "  return local_root\n",
        "\n",
        "def local_test_file_full_prefix():\n",
        "  return os.path.join(local_test_filename_base(), \"celeb_a-test.tfrecord\")\n",
        "\n",
        "def copy_test_files_to_local():\n",
        "  filename_base = local_test_file_full_prefix()\n",
        "  num_test_shards = num_test_shards_dict[version]\n",
        "  for shard in range(num_test_shards):\n",
        "    url = \"https://storage.googleapis.com/celeb_a_dataset/celeb_a/%s/celeb_a-test.tfrecord-0000%s-of-0000%s\" % (version, shard, num_test_shards)\n",
        "    filename = \"%s-0000%s-of-0000%s\" % (filename_base, shard, num_test_shards)\n",
        "    res = urllib.request.urlretrieve(url, filename)"
      ],
      "execution_count": 4,
      "outputs": []
    },
    {
      "cell_type": "code",
      "metadata": {
        "id": "eu72bUH7vWm8"
      },
      "source": [
        "ATTR_KEY = \"attributes\"\n",
        "IMAGE_KEY = \"image\"\n",
        "LABEL_KEY = \"Male\"\n",
        "IMAGE_SIZE = 256"
      ],
      "execution_count": 5,
      "outputs": []
    },
    {
      "cell_type": "code",
      "metadata": {
        "id": "DDJSO86GuwD9"
      },
      "source": [
        "def preprocess_input_dict(feat_dict):\n",
        "  # Separate out the image and target variable from the feature dictionary.\n",
        "  image = feat_dict[IMAGE_KEY]\n",
        "  label = feat_dict[ATTR_KEY][LABEL_KEY]\n",
        "\n",
        "  # Resize and normalize image.\n",
        "  image = tf.cast(image, tf.float32)\n",
        "  image = tf.image.resize(image, [IMAGE_SIZE, IMAGE_SIZE])\n",
        "  image /= 255.0\n",
        "\n",
        "  # Cast label and group to float32.\n",
        "  label = tf.cast(label, tf.float32)\n",
        "\n",
        "  feat_dict[IMAGE_KEY] = image\n",
        "  feat_dict[ATTR_KEY][LABEL_KEY] = label\n",
        "\n",
        "  return feat_dict\n",
        "\n",
        "get_image_and_label = lambda feat_dict: (feat_dict[IMAGE_KEY], feat_dict[ATTR_KEY][LABEL_KEY])"
      ],
      "execution_count": 6,
      "outputs": []
    },
    {
      "cell_type": "code",
      "metadata": {
        "id": "vPYZ5O7ovkY7"
      },
      "source": [
        "# Train data returning either 2 elements\n",
        "def celeb_a_train_data(batch_size):\n",
        "  celeb_a_train_data = celeb_a_builder.as_dataset(split='train').shuffle(1024).repeat().batch(batch_size).map(preprocess_input_dict)\n",
        "  return celeb_a_train_data.map(get_image_and_label)\n",
        "\n",
        "# Train data returning either 2 elements\n",
        "def celeb_a_val_data(batch_size):\n",
        "  celeb_a_val_data = celeb_a_builder.as_dataset(split='validation').shuffle(1024).repeat().batch(batch_size).map(preprocess_input_dict)\n",
        "  return celeb_a_val_data.map(get_image_and_label)\n",
        "\n",
        "# Test data for the overall evaluation\n",
        "celeb_a_test_data = celeb_a_builder.as_dataset(split='test').batch(1).map(preprocess_input_dict).map(get_image_and_label)\n",
        "# Copy test data locally\n",
        "copy_test_files_to_local()"
      ],
      "execution_count": 7,
      "outputs": []
    },
    {
      "cell_type": "code",
      "metadata": {
        "id": "tXhQMy7IwyuZ"
      },
      "source": [
        "learning_rate=0.001\n",
        "num_epochs = 150\n",
        "num_neurons=256\n",
        "b_size=32"
      ],
      "execution_count": 8,
      "outputs": []
    },
    {
      "cell_type": "code",
      "metadata": {
        "id": "MLNx4oDCtGrc"
      },
      "source": [
        "def step_decay(epoch):\n",
        "    init_lrate = 1e-3 #TOCHANGE\n",
        "    drop = 0.1\n",
        "    epochs_drop = 10000\n",
        "    lrate = init_lrate * math.pow(drop, math.floor((1+epoch)/epochs_drop))\n",
        "    return lrate\n",
        "    \n",
        "#Definition of weight initializers, optimizers, loss function and learning rate\n",
        "weight_init = keras.initializers.TruncatedNormal(mean=0.0,stddev=0.01,seed=10)\n",
        "#bias_init = tf.keras.initializers.Constant(value=0.1)\n",
        "sgd = keras.optimizers.SGD(learning_rate=0.001,momentum=0.0) #TOCHANGE\n",
        "loss_func = keras.losses.BinaryCrossentropy()\n",
        "lrate = keras.callbacks.LearningRateScheduler(step_decay)"
      ],
      "execution_count": 9,
      "outputs": []
    },
    {
      "cell_type": "code",
      "metadata": {
        "id": "1ZrmcmXZwg18"
      },
      "source": [
        "gender_model = keras.models.Sequential([\n",
        "      Conv2D(96, (7,7), input_shape=(256,256,3), strides=4, padding='valid', activation='relu', kernel_initializer = weight_init),\n",
        "      MaxPooling2D(pool_size = (3, 3), strides = 2, padding='same'),\n",
        "      Lambda(lambda x: tf.nn.local_response_normalization(input=x, alpha=0.0001, beta=0.75)),\n",
        "\n",
        "      Conv2D(256, (5,5), padding='same', activation = 'relu', kernel_initializer = weight_init),\n",
        "      MaxPooling2D(pool_size = (3, 3), strides = 2, padding = 'same'),\n",
        "      Lambda(lambda x: tf.nn.local_response_normalization(input=x, alpha=0.0001, beta=0.75)),\n",
        "\n",
        "      Conv2D(384,(3,3), padding='same', activation='relu', kernel_initializer = weight_init),\n",
        "      MaxPooling2D(pool_size=(3,3), strides = 2, padding='same'),\n",
        "      Flatten(),\n",
        "\n",
        "      Dense(512, activation = \"relu\", kernel_initializer = weight_init),\n",
        "      Dropout(0.5),\n",
        "\n",
        "      Dense(512, activation='relu',kernel_initializer = weight_init),\n",
        "      Dropout(0.5),\n",
        "\n",
        "      Dense(1, activation ='sigmoid', kernel_initializer = weight_init)\n",
        "])\n",
        "\n",
        "gender_model.compile(loss = loss_func, optimizer = sgd, metrics=['accuracy'])\n"
      ],
      "execution_count": null,
      "outputs": []
    },
    {
      "cell_type": "code",
      "metadata": {
        "id": "o2Xd7n2p6mj4"
      },
      "source": [
        "seed = 10\n",
        "np.random.seed(seed)\n",
        "tf.random.set_seed(seed)"
      ],
      "execution_count": 11,
      "outputs": []
    },
    {
      "cell_type": "code",
      "metadata": {
        "colab": {
          "base_uri": "https://localhost:8080/"
        },
        "id": "8a01251Ax6lH",
        "outputId": "ffe5009e-7404-498b-d1f0-4304e616ece4"
      },
      "source": [
        "checkpoint_filepath = \"/content/checkpoints/celebA_pretraining_\"+str(b_size)+\"_\"+str(learning_rate)+\"_\"+str(num_neurons)+\".tf\"\n",
        "model_checkpoint_callback = keras.callbacks.ModelCheckpoint(\n",
        "filepath=checkpoint_filepath,\n",
        "monitor='val_loss',\n",
        "mode='min',\n",
        "save_best_only=True)\n",
        "early_stopping=EarlyStopping(monitor='val_loss',patience=10)\n",
        "history = gender_model.fit(celeb_a_train_data(b_size),\n",
        "                    epochs=num_epochs,\n",
        "                    steps_per_epoch=1000,\n",
        "                    verbose=1,\n",
        "                    use_multiprocessing=True,\n",
        "                    callbacks=[model_checkpoint_callback],\n",
        "                    validation_data=celeb_a_val_data(b_size),\n",
        "                    validation_steps = 1000)"
      ],
      "execution_count": 14,
      "outputs": [
        {
          "output_type": "stream",
          "name": "stdout",
          "text": [
            "Epoch 1/150\n",
            " 999/1000 [============================>.] - ETA: 0s - loss: 0.6800 - accuracy: 0.5809INFO:tensorflow:Assets written to: /content/checkpoints/celebA_pretraining_32_0.001_256.tf/assets\n"
          ]
        },
        {
          "output_type": "stream",
          "name": "stderr",
          "text": [
            "INFO:tensorflow:Assets written to: /content/checkpoints/celebA_pretraining_32_0.001_256.tf/assets\n"
          ]
        },
        {
          "output_type": "stream",
          "name": "stdout",
          "text": [
            "1000/1000 [==============================] - 53s 53ms/step - loss: 0.6799 - accuracy: 0.5810 - val_loss: 0.6817 - val_accuracy: 0.5755\n",
            "Epoch 2/150\n",
            "1000/1000 [==============================] - 52s 52ms/step - loss: 0.6803 - accuracy: 0.5799 - val_loss: 0.6818 - val_accuracy: 0.5751\n",
            "Epoch 3/150\n",
            "1000/1000 [==============================] - 50s 50ms/step - loss: 0.6795 - accuracy: 0.5824 - val_loss: 0.6820 - val_accuracy: 0.5747\n",
            "Epoch 4/150\n",
            "1000/1000 [==============================] - 51s 51ms/step - loss: 0.6800 - accuracy: 0.5808 - val_loss: 0.6819 - val_accuracy: 0.5749\n",
            "Epoch 5/150\n",
            "1000/1000 [==============================] - ETA: 0s - loss: 0.6802 - accuracy: 0.5800INFO:tensorflow:Assets written to: /content/checkpoints/celebA_pretraining_32_0.001_256.tf/assets\n"
          ]
        },
        {
          "output_type": "stream",
          "name": "stderr",
          "text": [
            "INFO:tensorflow:Assets written to: /content/checkpoints/celebA_pretraining_32_0.001_256.tf/assets\n"
          ]
        },
        {
          "output_type": "stream",
          "name": "stdout",
          "text": [
            "1000/1000 [==============================] - 51s 51ms/step - loss: 0.6802 - accuracy: 0.5800 - val_loss: 0.6816 - val_accuracy: 0.5759\n",
            "Epoch 6/150\n",
            "1000/1000 [==============================] - 49s 49ms/step - loss: 0.6805 - accuracy: 0.5792 - val_loss: 0.6820 - val_accuracy: 0.5746\n",
            "Epoch 7/150\n",
            "1000/1000 [==============================] - 50s 50ms/step - loss: 0.6797 - accuracy: 0.5815 - val_loss: 0.6817 - val_accuracy: 0.5755\n",
            "Epoch 8/150\n",
            "1000/1000 [==============================] - 50s 50ms/step - loss: 0.6794 - accuracy: 0.5825 - val_loss: 0.6818 - val_accuracy: 0.5751\n",
            "Epoch 9/150\n",
            "1000/1000 [==============================] - 51s 51ms/step - loss: 0.6801 - accuracy: 0.5805 - val_loss: 0.6819 - val_accuracy: 0.5748\n",
            "Epoch 10/150\n",
            "1000/1000 [==============================] - 50s 50ms/step - loss: 0.6807 - accuracy: 0.5786 - val_loss: 0.6818 - val_accuracy: 0.5753\n",
            "Epoch 11/150\n",
            "1000/1000 [==============================] - 50s 50ms/step - loss: 0.6801 - accuracy: 0.5803 - val_loss: 0.6819 - val_accuracy: 0.5749\n",
            "Epoch 12/150\n",
            "1000/1000 [==============================] - 49s 49ms/step - loss: 0.6797 - accuracy: 0.5817 - val_loss: 0.6820 - val_accuracy: 0.5746\n",
            "Epoch 13/150\n",
            "1000/1000 [==============================] - 51s 51ms/step - loss: 0.6798 - accuracy: 0.5812 - val_loss: 0.6819 - val_accuracy: 0.5748\n",
            "Epoch 14/150\n",
            "1000/1000 [==============================] - 51s 51ms/step - loss: 0.6798 - accuracy: 0.5813 - val_loss: 0.6816 - val_accuracy: 0.5757\n",
            "Epoch 15/150\n",
            "1000/1000 [==============================] - 52s 52ms/step - loss: 0.6810 - accuracy: 0.5775 - val_loss: 0.6819 - val_accuracy: 0.5746\n",
            "Epoch 16/150\n",
            "1000/1000 [==============================] - 70s 70ms/step - loss: 0.6793 - accuracy: 0.5827 - val_loss: 0.6817 - val_accuracy: 0.5753\n",
            "Epoch 17/150\n",
            "1000/1000 [==============================] - 51s 51ms/step - loss: 0.6800 - accuracy: 0.5807 - val_loss: 0.6819 - val_accuracy: 0.5747\n",
            "Epoch 18/150\n",
            "1000/1000 [==============================] - 51s 51ms/step - loss: 0.6799 - accuracy: 0.5808 - val_loss: 0.6818 - val_accuracy: 0.5751\n",
            "Epoch 19/150\n",
            "1000/1000 [==============================] - 51s 51ms/step - loss: 0.6797 - accuracy: 0.5814 - val_loss: 0.6819 - val_accuracy: 0.5746\n",
            "Epoch 20/150\n",
            "1000/1000 [==============================] - 51s 51ms/step - loss: 0.6807 - accuracy: 0.5783 - val_loss: 0.6816 - val_accuracy: 0.5757\n",
            "Epoch 21/150\n",
            "1000/1000 [==============================] - 51s 51ms/step - loss: 0.6797 - accuracy: 0.5814 - val_loss: 0.6818 - val_accuracy: 0.5750\n",
            "Epoch 22/150\n",
            "1000/1000 [==============================] - 51s 51ms/step - loss: 0.6798 - accuracy: 0.5812 - val_loss: 0.6819 - val_accuracy: 0.5748\n",
            "Epoch 23/150\n",
            "1000/1000 [==============================] - 52s 52ms/step - loss: 0.6800 - accuracy: 0.5805 - val_loss: 0.6818 - val_accuracy: 0.5751\n",
            "Epoch 24/150\n",
            "1000/1000 [==============================] - 72s 72ms/step - loss: 0.6800 - accuracy: 0.5804 - val_loss: 0.6819 - val_accuracy: 0.5748\n",
            "Epoch 25/150\n",
            "1000/1000 [==============================] - 52s 52ms/step - loss: 0.6800 - accuracy: 0.5804 - val_loss: 0.6817 - val_accuracy: 0.5753\n",
            "Epoch 26/150\n",
            "1000/1000 [==============================] - 51s 51ms/step - loss: 0.6801 - accuracy: 0.5801 - val_loss: 0.6819 - val_accuracy: 0.5746\n",
            "Epoch 27/150\n",
            "1000/1000 [==============================] - 52s 52ms/step - loss: 0.6796 - accuracy: 0.5817 - val_loss: 0.6818 - val_accuracy: 0.5749\n",
            "Epoch 28/150\n",
            "1000/1000 [==============================] - ETA: 0s - loss: 0.6800 - accuracy: 0.5806INFO:tensorflow:Assets written to: /content/checkpoints/celebA_pretraining_32_0.001_256.tf/assets\n"
          ]
        },
        {
          "output_type": "stream",
          "name": "stderr",
          "text": [
            "INFO:tensorflow:Assets written to: /content/checkpoints/celebA_pretraining_32_0.001_256.tf/assets\n"
          ]
        },
        {
          "output_type": "stream",
          "name": "stdout",
          "text": [
            "1000/1000 [==============================] - 53s 53ms/step - loss: 0.6800 - accuracy: 0.5806 - val_loss: 0.6814 - val_accuracy: 0.5761\n",
            "Epoch 29/150\n",
            "1000/1000 [==============================] - 51s 51ms/step - loss: 0.6799 - accuracy: 0.5808 - val_loss: 0.6819 - val_accuracy: 0.5747\n",
            "Epoch 30/150\n",
            "1000/1000 [==============================] - 83s 83ms/step - loss: 0.6801 - accuracy: 0.5802 - val_loss: 0.6818 - val_accuracy: 0.5748\n",
            "Epoch 31/150\n",
            "1000/1000 [==============================] - 50s 50ms/step - loss: 0.6802 - accuracy: 0.5800 - val_loss: 0.6815 - val_accuracy: 0.5757\n",
            "Epoch 32/150\n",
            "1000/1000 [==============================] - 52s 52ms/step - loss: 0.6796 - accuracy: 0.5815 - val_loss: 0.6816 - val_accuracy: 0.5755\n",
            "Epoch 33/150\n",
            "1000/1000 [==============================] - 51s 51ms/step - loss: 0.6797 - accuracy: 0.5814 - val_loss: 0.6816 - val_accuracy: 0.5753\n",
            "Epoch 34/150\n",
            "1000/1000 [==============================] - 51s 51ms/step - loss: 0.6808 - accuracy: 0.5781 - val_loss: 0.6817 - val_accuracy: 0.5751\n",
            "Epoch 35/150\n",
            "1000/1000 [==============================] - 52s 52ms/step - loss: 0.6793 - accuracy: 0.5825 - val_loss: 0.6818 - val_accuracy: 0.5749\n",
            "Epoch 36/150\n",
            "1000/1000 [==============================] - 50s 50ms/step - loss: 0.6801 - accuracy: 0.5800 - val_loss: 0.6816 - val_accuracy: 0.5753\n",
            "Epoch 37/150\n",
            "1000/1000 [==============================] - 73s 73ms/step - loss: 0.6799 - accuracy: 0.5806 - val_loss: 0.6817 - val_accuracy: 0.5751\n",
            "Epoch 38/150\n",
            "1000/1000 [==============================] - 51s 51ms/step - loss: 0.6799 - accuracy: 0.5806 - val_loss: 0.6816 - val_accuracy: 0.5754\n",
            "Epoch 39/150\n",
            "1000/1000 [==============================] - 51s 51ms/step - loss: 0.6799 - accuracy: 0.5806 - val_loss: 0.6818 - val_accuracy: 0.5746\n",
            "Epoch 40/150\n",
            "1000/1000 [==============================] - 51s 51ms/step - loss: 0.6802 - accuracy: 0.5795 - val_loss: 0.6816 - val_accuracy: 0.5752\n",
            "Epoch 41/150\n",
            "1000/1000 [==============================] - 50s 50ms/step - loss: 0.6792 - accuracy: 0.5827 - val_loss: 0.6816 - val_accuracy: 0.5753\n",
            "Epoch 42/150\n",
            "1000/1000 [==============================] - 50s 51ms/step - loss: 0.6800 - accuracy: 0.5800 - val_loss: 0.6817 - val_accuracy: 0.5747\n",
            "Epoch 43/150\n",
            "1000/1000 [==============================] - 50s 50ms/step - loss: 0.6798 - accuracy: 0.5808 - val_loss: 0.6819 - val_accuracy: 0.5742\n",
            "Epoch 44/150\n",
            "1000/1000 [==============================] - 51s 51ms/step - loss: 0.6798 - accuracy: 0.5808 - val_loss: 0.6816 - val_accuracy: 0.5749\n",
            "Epoch 45/150\n",
            "1000/1000 [==============================] - 51s 51ms/step - loss: 0.6804 - accuracy: 0.5789 - val_loss: 0.6816 - val_accuracy: 0.5749\n",
            "Epoch 46/150\n",
            "1000/1000 [==============================] - 50s 50ms/step - loss: 0.6794 - accuracy: 0.5817 - val_loss: 0.6816 - val_accuracy: 0.5751\n",
            "Epoch 47/150\n",
            "1000/1000 [==============================] - 80s 80ms/step - loss: 0.6799 - accuracy: 0.5804 - val_loss: 0.6816 - val_accuracy: 0.5749\n",
            "Epoch 48/150\n",
            "1000/1000 [==============================] - 50s 51ms/step - loss: 0.6793 - accuracy: 0.5822 - val_loss: 0.6814 - val_accuracy: 0.5753\n",
            "Epoch 49/150\n",
            "1000/1000 [==============================] - 51s 51ms/step - loss: 0.6800 - accuracy: 0.5800 - val_loss: 0.6815 - val_accuracy: 0.5752\n",
            "Epoch 50/150\n",
            "1000/1000 [==============================] - 52s 52ms/step - loss: 0.6803 - accuracy: 0.5790 - val_loss: 0.6814 - val_accuracy: 0.5752\n",
            "Epoch 51/150\n",
            "1000/1000 [==============================] - ETA: 0s - loss: 0.6796 - accuracy: 0.5809INFO:tensorflow:Assets written to: /content/checkpoints/celebA_pretraining_32_0.001_256.tf/assets\n"
          ]
        },
        {
          "output_type": "stream",
          "name": "stderr",
          "text": [
            "INFO:tensorflow:Assets written to: /content/checkpoints/celebA_pretraining_32_0.001_256.tf/assets\n"
          ]
        },
        {
          "output_type": "stream",
          "name": "stdout",
          "text": [
            "1000/1000 [==============================] - 51s 51ms/step - loss: 0.6796 - accuracy: 0.5809 - val_loss: 0.6813 - val_accuracy: 0.5755\n",
            "Epoch 52/150\n",
            "1000/1000 [==============================] - 51s 51ms/step - loss: 0.6796 - accuracy: 0.5810 - val_loss: 0.6816 - val_accuracy: 0.5746\n",
            "Epoch 53/150\n",
            "1000/1000 [==============================] - 51s 51ms/step - loss: 0.6793 - accuracy: 0.5816 - val_loss: 0.6815 - val_accuracy: 0.5749\n",
            "Epoch 54/150\n",
            "1000/1000 [==============================] - 50s 50ms/step - loss: 0.6797 - accuracy: 0.5803 - val_loss: 0.6814 - val_accuracy: 0.5749\n",
            "Epoch 55/150\n",
            "1000/1000 [==============================] - 51s 51ms/step - loss: 0.6797 - accuracy: 0.5804 - val_loss: 0.6813 - val_accuracy: 0.5750\n",
            "Epoch 56/150\n",
            "1000/1000 [==============================] - 50s 50ms/step - loss: 0.6798 - accuracy: 0.5798 - val_loss: 0.6814 - val_accuracy: 0.5748\n",
            "Epoch 57/150\n",
            "1000/1000 [==============================] - ETA: 0s - loss: 0.6796 - accuracy: 0.5804INFO:tensorflow:Assets written to: /content/checkpoints/celebA_pretraining_32_0.001_256.tf/assets\n"
          ]
        },
        {
          "output_type": "stream",
          "name": "stderr",
          "text": [
            "INFO:tensorflow:Assets written to: /content/checkpoints/celebA_pretraining_32_0.001_256.tf/assets\n"
          ]
        },
        {
          "output_type": "stream",
          "name": "stdout",
          "text": [
            "1000/1000 [==============================] - 51s 51ms/step - loss: 0.6796 - accuracy: 0.5804 - val_loss: 0.6813 - val_accuracy: 0.5749\n",
            "Epoch 58/150\n",
            "1000/1000 [==============================] - ETA: 0s - loss: 0.6793 - accuracy: 0.5811INFO:tensorflow:Assets written to: /content/checkpoints/celebA_pretraining_32_0.001_256.tf/assets\n"
          ]
        },
        {
          "output_type": "stream",
          "name": "stderr",
          "text": [
            "INFO:tensorflow:Assets written to: /content/checkpoints/celebA_pretraining_32_0.001_256.tf/assets\n"
          ]
        },
        {
          "output_type": "stream",
          "name": "stdout",
          "text": [
            "1000/1000 [==============================] - 52s 52ms/step - loss: 0.6793 - accuracy: 0.5811 - val_loss: 0.6811 - val_accuracy: 0.5754\n",
            "Epoch 59/150\n",
            "1000/1000 [==============================] - 50s 50ms/step - loss: 0.6789 - accuracy: 0.5822 - val_loss: 0.6812 - val_accuracy: 0.5749\n",
            "Epoch 60/150\n",
            "1000/1000 [==============================] - 51s 51ms/step - loss: 0.6795 - accuracy: 0.5803 - val_loss: 0.6811 - val_accuracy: 0.5750\n",
            "Epoch 61/150\n",
            "1000/1000 [==============================] - 49s 49ms/step - loss: 0.6794 - accuracy: 0.5804 - val_loss: 0.6811 - val_accuracy: 0.5746\n",
            "Epoch 62/150\n",
            "1000/1000 [==============================] - 50s 50ms/step - loss: 0.6797 - accuracy: 0.5794 - val_loss: 0.6814 - val_accuracy: 0.5736\n",
            "Epoch 63/150\n",
            " 999/1000 [============================>.] - ETA: 0s - loss: 0.6793 - accuracy: 0.5802INFO:tensorflow:Assets written to: /content/checkpoints/celebA_pretraining_32_0.001_256.tf/assets\n"
          ]
        },
        {
          "output_type": "stream",
          "name": "stderr",
          "text": [
            "INFO:tensorflow:Assets written to: /content/checkpoints/celebA_pretraining_32_0.001_256.tf/assets\n"
          ]
        },
        {
          "output_type": "stream",
          "name": "stdout",
          "text": [
            "1000/1000 [==============================] - 53s 53ms/step - loss: 0.6793 - accuracy: 0.5801 - val_loss: 0.6808 - val_accuracy: 0.5750\n",
            "Epoch 64/150\n",
            " 999/1000 [============================>.] - ETA: 0s - loss: 0.6781 - accuracy: 0.5837INFO:tensorflow:Assets written to: /content/checkpoints/celebA_pretraining_32_0.001_256.tf/assets\n"
          ]
        },
        {
          "output_type": "stream",
          "name": "stderr",
          "text": [
            "INFO:tensorflow:Assets written to: /content/checkpoints/celebA_pretraining_32_0.001_256.tf/assets\n"
          ]
        },
        {
          "output_type": "stream",
          "name": "stdout",
          "text": [
            "1000/1000 [==============================] - 51s 51ms/step - loss: 0.6781 - accuracy: 0.5838 - val_loss: 0.6806 - val_accuracy: 0.5753\n",
            "Epoch 65/150\n",
            "1000/1000 [==============================] - 50s 50ms/step - loss: 0.6790 - accuracy: 0.5803 - val_loss: 0.6807 - val_accuracy: 0.5747\n",
            "Epoch 66/150\n",
            " 999/1000 [============================>.] - ETA: 0s - loss: 0.6795 - accuracy: 0.5784INFO:tensorflow:Assets written to: /content/checkpoints/celebA_pretraining_32_0.001_256.tf/assets\n"
          ]
        },
        {
          "output_type": "stream",
          "name": "stderr",
          "text": [
            "INFO:tensorflow:Assets written to: /content/checkpoints/celebA_pretraining_32_0.001_256.tf/assets\n"
          ]
        },
        {
          "output_type": "stream",
          "name": "stdout",
          "text": [
            "1000/1000 [==============================] - 51s 51ms/step - loss: 0.6795 - accuracy: 0.5785 - val_loss: 0.6804 - val_accuracy: 0.5750\n",
            "Epoch 67/150\n",
            "1000/1000 [==============================] - ETA: 0s - loss: 0.6789 - accuracy: 0.5801INFO:tensorflow:Assets written to: /content/checkpoints/celebA_pretraining_32_0.001_256.tf/assets\n"
          ]
        },
        {
          "output_type": "stream",
          "name": "stderr",
          "text": [
            "INFO:tensorflow:Assets written to: /content/checkpoints/celebA_pretraining_32_0.001_256.tf/assets\n"
          ]
        },
        {
          "output_type": "stream",
          "name": "stdout",
          "text": [
            "1000/1000 [==============================] - 51s 51ms/step - loss: 0.6789 - accuracy: 0.5801 - val_loss: 0.6802 - val_accuracy: 0.5750\n",
            "Epoch 68/150\n",
            " 999/1000 [============================>.] - ETA: 0s - loss: 0.6783 - accuracy: 0.5810INFO:tensorflow:Assets written to: /content/checkpoints/celebA_pretraining_32_0.001_256.tf/assets\n"
          ]
        },
        {
          "output_type": "stream",
          "name": "stderr",
          "text": [
            "INFO:tensorflow:Assets written to: /content/checkpoints/celebA_pretraining_32_0.001_256.tf/assets\n"
          ]
        },
        {
          "output_type": "stream",
          "name": "stdout",
          "text": [
            "1000/1000 [==============================] - 52s 52ms/step - loss: 0.6783 - accuracy: 0.5811 - val_loss: 0.6800 - val_accuracy: 0.5748\n",
            "Epoch 69/150\n",
            " 999/1000 [============================>.] - ETA: 0s - loss: 0.6774 - accuracy: 0.5834INFO:tensorflow:Assets written to: /content/checkpoints/celebA_pretraining_32_0.001_256.tf/assets\n"
          ]
        },
        {
          "output_type": "stream",
          "name": "stderr",
          "text": [
            "INFO:tensorflow:Assets written to: /content/checkpoints/celebA_pretraining_32_0.001_256.tf/assets\n"
          ]
        },
        {
          "output_type": "stream",
          "name": "stdout",
          "text": [
            "1000/1000 [==============================] - 52s 52ms/step - loss: 0.6774 - accuracy: 0.5833 - val_loss: 0.6798 - val_accuracy: 0.5747\n",
            "Epoch 70/150\n",
            " 999/1000 [============================>.] - ETA: 0s - loss: 0.6779 - accuracy: 0.5805INFO:tensorflow:Assets written to: /content/checkpoints/celebA_pretraining_32_0.001_256.tf/assets\n"
          ]
        },
        {
          "output_type": "stream",
          "name": "stderr",
          "text": [
            "INFO:tensorflow:Assets written to: /content/checkpoints/celebA_pretraining_32_0.001_256.tf/assets\n"
          ]
        },
        {
          "output_type": "stream",
          "name": "stdout",
          "text": [
            "1000/1000 [==============================] - 52s 52ms/step - loss: 0.6779 - accuracy: 0.5805 - val_loss: 0.6793 - val_accuracy: 0.5748\n",
            "Epoch 71/150\n",
            " 999/1000 [============================>.] - ETA: 0s - loss: 0.6785 - accuracy: 0.5776INFO:tensorflow:Assets written to: /content/checkpoints/celebA_pretraining_32_0.001_256.tf/assets\n"
          ]
        },
        {
          "output_type": "stream",
          "name": "stderr",
          "text": [
            "INFO:tensorflow:Assets written to: /content/checkpoints/celebA_pretraining_32_0.001_256.tf/assets\n"
          ]
        },
        {
          "output_type": "stream",
          "name": "stdout",
          "text": [
            "1000/1000 [==============================] - 51s 51ms/step - loss: 0.6786 - accuracy: 0.5776 - val_loss: 0.6787 - val_accuracy: 0.5751\n",
            "Epoch 72/150\n",
            "1000/1000 [==============================] - ETA: 0s - loss: 0.6769 - accuracy: 0.5809INFO:tensorflow:Assets written to: /content/checkpoints/celebA_pretraining_32_0.001_256.tf/assets\n"
          ]
        },
        {
          "output_type": "stream",
          "name": "stderr",
          "text": [
            "INFO:tensorflow:Assets written to: /content/checkpoints/celebA_pretraining_32_0.001_256.tf/assets\n"
          ]
        },
        {
          "output_type": "stream",
          "name": "stdout",
          "text": [
            "1000/1000 [==============================] - 51s 51ms/step - loss: 0.6769 - accuracy: 0.5809 - val_loss: 0.6782 - val_accuracy: 0.5746\n",
            "Epoch 73/150\n",
            "1000/1000 [==============================] - ETA: 0s - loss: 0.6757 - accuracy: 0.5821INFO:tensorflow:Assets written to: /content/checkpoints/celebA_pretraining_32_0.001_256.tf/assets\n"
          ]
        },
        {
          "output_type": "stream",
          "name": "stderr",
          "text": [
            "INFO:tensorflow:Assets written to: /content/checkpoints/celebA_pretraining_32_0.001_256.tf/assets\n"
          ]
        },
        {
          "output_type": "stream",
          "name": "stdout",
          "text": [
            "1000/1000 [==============================] - 52s 52ms/step - loss: 0.6757 - accuracy: 0.5821 - val_loss: 0.6769 - val_accuracy: 0.5756\n",
            "Epoch 74/150\n",
            " 999/1000 [============================>.] - ETA: 0s - loss: 0.6754 - accuracy: 0.5807INFO:tensorflow:Assets written to: /content/checkpoints/celebA_pretraining_32_0.001_256.tf/assets\n"
          ]
        },
        {
          "output_type": "stream",
          "name": "stderr",
          "text": [
            "INFO:tensorflow:Assets written to: /content/checkpoints/celebA_pretraining_32_0.001_256.tf/assets\n"
          ]
        },
        {
          "output_type": "stream",
          "name": "stdout",
          "text": [
            "1000/1000 [==============================] - 53s 53ms/step - loss: 0.6754 - accuracy: 0.5806 - val_loss: 0.6758 - val_accuracy: 0.5752\n",
            "Epoch 75/150\n",
            "1000/1000 [==============================] - ETA: 0s - loss: 0.6736 - accuracy: 0.5814INFO:tensorflow:Assets written to: /content/checkpoints/celebA_pretraining_32_0.001_256.tf/assets\n"
          ]
        },
        {
          "output_type": "stream",
          "name": "stderr",
          "text": [
            "INFO:tensorflow:Assets written to: /content/checkpoints/celebA_pretraining_32_0.001_256.tf/assets\n"
          ]
        },
        {
          "output_type": "stream",
          "name": "stdout",
          "text": [
            "1000/1000 [==============================] - 53s 53ms/step - loss: 0.6736 - accuracy: 0.5814 - val_loss: 0.6738 - val_accuracy: 0.5752\n",
            "Epoch 76/150\n",
            "1000/1000 [==============================] - ETA: 0s - loss: 0.6724 - accuracy: 0.5785INFO:tensorflow:Assets written to: /content/checkpoints/celebA_pretraining_32_0.001_256.tf/assets\n"
          ]
        },
        {
          "output_type": "stream",
          "name": "stderr",
          "text": [
            "INFO:tensorflow:Assets written to: /content/checkpoints/celebA_pretraining_32_0.001_256.tf/assets\n"
          ]
        },
        {
          "output_type": "stream",
          "name": "stdout",
          "text": [
            "1000/1000 [==============================] - 53s 53ms/step - loss: 0.6724 - accuracy: 0.5785 - val_loss: 0.6706 - val_accuracy: 0.5751\n",
            "Epoch 77/150\n",
            " 999/1000 [============================>.] - ETA: 0s - loss: 0.6684 - accuracy: 0.5811INFO:tensorflow:Assets written to: /content/checkpoints/celebA_pretraining_32_0.001_256.tf/assets\n"
          ]
        },
        {
          "output_type": "stream",
          "name": "stderr",
          "text": [
            "INFO:tensorflow:Assets written to: /content/checkpoints/celebA_pretraining_32_0.001_256.tf/assets\n"
          ]
        },
        {
          "output_type": "stream",
          "name": "stdout",
          "text": [
            "1000/1000 [==============================] - 52s 52ms/step - loss: 0.6684 - accuracy: 0.5812 - val_loss: 0.6658 - val_accuracy: 0.5743\n",
            "Epoch 78/150\n",
            "1000/1000 [==============================] - ETA: 0s - loss: 0.6618 - accuracy: 0.5810INFO:tensorflow:Assets written to: /content/checkpoints/celebA_pretraining_32_0.001_256.tf/assets\n"
          ]
        },
        {
          "output_type": "stream",
          "name": "stderr",
          "text": [
            "INFO:tensorflow:Assets written to: /content/checkpoints/celebA_pretraining_32_0.001_256.tf/assets\n"
          ]
        },
        {
          "output_type": "stream",
          "name": "stdout",
          "text": [
            "1000/1000 [==============================] - 53s 53ms/step - loss: 0.6618 - accuracy: 0.5810 - val_loss: 0.6556 - val_accuracy: 0.5750\n",
            "Epoch 79/150\n",
            "1000/1000 [==============================] - ETA: 0s - loss: 0.6511 - accuracy: 0.5913INFO:tensorflow:Assets written to: /content/checkpoints/celebA_pretraining_32_0.001_256.tf/assets\n"
          ]
        },
        {
          "output_type": "stream",
          "name": "stderr",
          "text": [
            "INFO:tensorflow:Assets written to: /content/checkpoints/celebA_pretraining_32_0.001_256.tf/assets\n"
          ]
        },
        {
          "output_type": "stream",
          "name": "stdout",
          "text": [
            "1000/1000 [==============================] - 52s 52ms/step - loss: 0.6511 - accuracy: 0.5913 - val_loss: 0.6376 - val_accuracy: 0.6133\n",
            "Epoch 80/150\n",
            " 999/1000 [============================>.] - ETA: 0s - loss: 0.6324 - accuracy: 0.6332INFO:tensorflow:Assets written to: /content/checkpoints/celebA_pretraining_32_0.001_256.tf/assets\n"
          ]
        },
        {
          "output_type": "stream",
          "name": "stderr",
          "text": [
            "INFO:tensorflow:Assets written to: /content/checkpoints/celebA_pretraining_32_0.001_256.tf/assets\n"
          ]
        },
        {
          "output_type": "stream",
          "name": "stdout",
          "text": [
            "1000/1000 [==============================] - 52s 52ms/step - loss: 0.6323 - accuracy: 0.6333 - val_loss: 0.6119 - val_accuracy: 0.6640\n",
            "Epoch 81/150\n",
            " 999/1000 [============================>.] - ETA: 0s - loss: 0.6152 - accuracy: 0.6647INFO:tensorflow:Assets written to: /content/checkpoints/celebA_pretraining_32_0.001_256.tf/assets\n"
          ]
        },
        {
          "output_type": "stream",
          "name": "stderr",
          "text": [
            "INFO:tensorflow:Assets written to: /content/checkpoints/celebA_pretraining_32_0.001_256.tf/assets\n"
          ]
        },
        {
          "output_type": "stream",
          "name": "stdout",
          "text": [
            "1000/1000 [==============================] - 53s 53ms/step - loss: 0.6152 - accuracy: 0.6647 - val_loss: 0.5904 - val_accuracy: 0.6893\n",
            "Epoch 82/150\n",
            " 999/1000 [============================>.] - ETA: 0s - loss: 0.5973 - accuracy: 0.6824INFO:tensorflow:Assets written to: /content/checkpoints/celebA_pretraining_32_0.001_256.tf/assets\n"
          ]
        },
        {
          "output_type": "stream",
          "name": "stderr",
          "text": [
            "INFO:tensorflow:Assets written to: /content/checkpoints/celebA_pretraining_32_0.001_256.tf/assets\n"
          ]
        },
        {
          "output_type": "stream",
          "name": "stdout",
          "text": [
            "1000/1000 [==============================] - 51s 51ms/step - loss: 0.5973 - accuracy: 0.6824 - val_loss: 0.5699 - val_accuracy: 0.7015\n",
            "Epoch 83/150\n",
            "1000/1000 [==============================] - ETA: 0s - loss: 0.5766 - accuracy: 0.7008INFO:tensorflow:Assets written to: /content/checkpoints/celebA_pretraining_32_0.001_256.tf/assets\n"
          ]
        },
        {
          "output_type": "stream",
          "name": "stderr",
          "text": [
            "INFO:tensorflow:Assets written to: /content/checkpoints/celebA_pretraining_32_0.001_256.tf/assets\n"
          ]
        },
        {
          "output_type": "stream",
          "name": "stdout",
          "text": [
            "1000/1000 [==============================] - 53s 53ms/step - loss: 0.5766 - accuracy: 0.7008 - val_loss: 0.5511 - val_accuracy: 0.7176\n",
            "Epoch 84/150\n",
            " 999/1000 [============================>.] - ETA: 0s - loss: 0.5650 - accuracy: 0.7072INFO:tensorflow:Assets written to: /content/checkpoints/celebA_pretraining_32_0.001_256.tf/assets\n"
          ]
        },
        {
          "output_type": "stream",
          "name": "stderr",
          "text": [
            "INFO:tensorflow:Assets written to: /content/checkpoints/celebA_pretraining_32_0.001_256.tf/assets\n"
          ]
        },
        {
          "output_type": "stream",
          "name": "stdout",
          "text": [
            "1000/1000 [==============================] - 53s 53ms/step - loss: 0.5651 - accuracy: 0.7071 - val_loss: 0.5370 - val_accuracy: 0.7318\n",
            "Epoch 85/150\n",
            " 999/1000 [============================>.] - ETA: 0s - loss: 0.5481 - accuracy: 0.7193INFO:tensorflow:Assets written to: /content/checkpoints/celebA_pretraining_32_0.001_256.tf/assets\n"
          ]
        },
        {
          "output_type": "stream",
          "name": "stderr",
          "text": [
            "INFO:tensorflow:Assets written to: /content/checkpoints/celebA_pretraining_32_0.001_256.tf/assets\n"
          ]
        },
        {
          "output_type": "stream",
          "name": "stdout",
          "text": [
            "1000/1000 [==============================] - 54s 54ms/step - loss: 0.5482 - accuracy: 0.7193 - val_loss: 0.5258 - val_accuracy: 0.7351\n",
            "Epoch 86/150\n",
            " 999/1000 [============================>.] - ETA: 0s - loss: 0.5393 - accuracy: 0.7296INFO:tensorflow:Assets written to: /content/checkpoints/celebA_pretraining_32_0.001_256.tf/assets\n"
          ]
        },
        {
          "output_type": "stream",
          "name": "stderr",
          "text": [
            "INFO:tensorflow:Assets written to: /content/checkpoints/celebA_pretraining_32_0.001_256.tf/assets\n"
          ]
        },
        {
          "output_type": "stream",
          "name": "stdout",
          "text": [
            "1000/1000 [==============================] - 52s 52ms/step - loss: 0.5393 - accuracy: 0.7296 - val_loss: 0.5089 - val_accuracy: 0.7483\n",
            "Epoch 87/150\n",
            "1000/1000 [==============================] - ETA: 0s - loss: 0.5282 - accuracy: 0.7377INFO:tensorflow:Assets written to: /content/checkpoints/celebA_pretraining_32_0.001_256.tf/assets\n"
          ]
        },
        {
          "output_type": "stream",
          "name": "stderr",
          "text": [
            "INFO:tensorflow:Assets written to: /content/checkpoints/celebA_pretraining_32_0.001_256.tf/assets\n"
          ]
        },
        {
          "output_type": "stream",
          "name": "stdout",
          "text": [
            "1000/1000 [==============================] - 51s 51ms/step - loss: 0.5282 - accuracy: 0.7377 - val_loss: 0.4894 - val_accuracy: 0.7630\n",
            "Epoch 88/150\n",
            " 999/1000 [============================>.] - ETA: 0s - loss: 0.5062 - accuracy: 0.7543INFO:tensorflow:Assets written to: /content/checkpoints/celebA_pretraining_32_0.001_256.tf/assets\n"
          ]
        },
        {
          "output_type": "stream",
          "name": "stderr",
          "text": [
            "INFO:tensorflow:Assets written to: /content/checkpoints/celebA_pretraining_32_0.001_256.tf/assets\n"
          ]
        },
        {
          "output_type": "stream",
          "name": "stdout",
          "text": [
            "1000/1000 [==============================] - 53s 53ms/step - loss: 0.5061 - accuracy: 0.7544 - val_loss: 0.4726 - val_accuracy: 0.7706\n",
            "Epoch 89/150\n",
            " 999/1000 [============================>.] - ETA: 0s - loss: 0.4905 - accuracy: 0.7653INFO:tensorflow:Assets written to: /content/checkpoints/celebA_pretraining_32_0.001_256.tf/assets\n"
          ]
        },
        {
          "output_type": "stream",
          "name": "stderr",
          "text": [
            "INFO:tensorflow:Assets written to: /content/checkpoints/celebA_pretraining_32_0.001_256.tf/assets\n"
          ]
        },
        {
          "output_type": "stream",
          "name": "stdout",
          "text": [
            "1000/1000 [==============================] - 53s 53ms/step - loss: 0.4906 - accuracy: 0.7653 - val_loss: 0.4521 - val_accuracy: 0.7884\n",
            "Epoch 90/150\n",
            "1000/1000 [==============================] - 51s 51ms/step - loss: 0.4762 - accuracy: 0.7709 - val_loss: 0.4608 - val_accuracy: 0.7744\n",
            "Epoch 91/150\n",
            "1000/1000 [==============================] - ETA: 0s - loss: 0.4666 - accuracy: 0.7769INFO:tensorflow:Assets written to: /content/checkpoints/celebA_pretraining_32_0.001_256.tf/assets\n"
          ]
        },
        {
          "output_type": "stream",
          "name": "stderr",
          "text": [
            "INFO:tensorflow:Assets written to: /content/checkpoints/celebA_pretraining_32_0.001_256.tf/assets\n"
          ]
        },
        {
          "output_type": "stream",
          "name": "stdout",
          "text": [
            "1000/1000 [==============================] - 52s 52ms/step - loss: 0.4666 - accuracy: 0.7769 - val_loss: 0.4297 - val_accuracy: 0.8005\n",
            "Epoch 92/150\n",
            " 999/1000 [============================>.] - ETA: 0s - loss: 0.4579 - accuracy: 0.7860INFO:tensorflow:Assets written to: /content/checkpoints/celebA_pretraining_32_0.001_256.tf/assets\n"
          ]
        },
        {
          "output_type": "stream",
          "name": "stderr",
          "text": [
            "INFO:tensorflow:Assets written to: /content/checkpoints/celebA_pretraining_32_0.001_256.tf/assets\n"
          ]
        },
        {
          "output_type": "stream",
          "name": "stdout",
          "text": [
            "1000/1000 [==============================] - 52s 52ms/step - loss: 0.4579 - accuracy: 0.7860 - val_loss: 0.4212 - val_accuracy: 0.8092\n",
            "Epoch 93/150\n",
            "1000/1000 [==============================] - ETA: 0s - loss: 0.4454 - accuracy: 0.7924INFO:tensorflow:Assets written to: /content/checkpoints/celebA_pretraining_32_0.001_256.tf/assets\n"
          ]
        },
        {
          "output_type": "stream",
          "name": "stderr",
          "text": [
            "INFO:tensorflow:Assets written to: /content/checkpoints/celebA_pretraining_32_0.001_256.tf/assets\n"
          ]
        },
        {
          "output_type": "stream",
          "name": "stdout",
          "text": [
            "1000/1000 [==============================] - 53s 53ms/step - loss: 0.4454 - accuracy: 0.7924 - val_loss: 0.4108 - val_accuracy: 0.8126\n",
            "Epoch 94/150\n",
            " 999/1000 [============================>.] - ETA: 0s - loss: 0.4372 - accuracy: 0.8005INFO:tensorflow:Assets written to: /content/checkpoints/celebA_pretraining_32_0.001_256.tf/assets\n"
          ]
        },
        {
          "output_type": "stream",
          "name": "stderr",
          "text": [
            "INFO:tensorflow:Assets written to: /content/checkpoints/celebA_pretraining_32_0.001_256.tf/assets\n"
          ]
        },
        {
          "output_type": "stream",
          "name": "stdout",
          "text": [
            "1000/1000 [==============================] - 53s 53ms/step - loss: 0.4372 - accuracy: 0.8005 - val_loss: 0.4068 - val_accuracy: 0.8126\n",
            "Epoch 95/150\n",
            " 999/1000 [============================>.] - ETA: 0s - loss: 0.4325 - accuracy: 0.7988INFO:tensorflow:Assets written to: /content/checkpoints/celebA_pretraining_32_0.001_256.tf/assets\n"
          ]
        },
        {
          "output_type": "stream",
          "name": "stderr",
          "text": [
            "INFO:tensorflow:Assets written to: /content/checkpoints/celebA_pretraining_32_0.001_256.tf/assets\n"
          ]
        },
        {
          "output_type": "stream",
          "name": "stdout",
          "text": [
            "1000/1000 [==============================] - 52s 52ms/step - loss: 0.4325 - accuracy: 0.7987 - val_loss: 0.3975 - val_accuracy: 0.8212\n",
            "Epoch 96/150\n",
            "1000/1000 [==============================] - 52s 52ms/step - loss: 0.4265 - accuracy: 0.8020 - val_loss: 0.4273 - val_accuracy: 0.7959\n",
            "Epoch 97/150\n",
            " 999/1000 [============================>.] - ETA: 0s - loss: 0.4225 - accuracy: 0.8068INFO:tensorflow:Assets written to: /content/checkpoints/celebA_pretraining_32_0.001_256.tf/assets\n"
          ]
        },
        {
          "output_type": "stream",
          "name": "stderr",
          "text": [
            "INFO:tensorflow:Assets written to: /content/checkpoints/celebA_pretraining_32_0.001_256.tf/assets\n"
          ]
        },
        {
          "output_type": "stream",
          "name": "stdout",
          "text": [
            "1000/1000 [==============================] - 52s 52ms/step - loss: 0.4224 - accuracy: 0.8068 - val_loss: 0.3870 - val_accuracy: 0.8251\n",
            "Epoch 98/150\n",
            " 999/1000 [============================>.] - ETA: 0s - loss: 0.4151 - accuracy: 0.8087INFO:tensorflow:Assets written to: /content/checkpoints/celebA_pretraining_32_0.001_256.tf/assets\n"
          ]
        },
        {
          "output_type": "stream",
          "name": "stderr",
          "text": [
            "INFO:tensorflow:Assets written to: /content/checkpoints/celebA_pretraining_32_0.001_256.tf/assets\n"
          ]
        },
        {
          "output_type": "stream",
          "name": "stdout",
          "text": [
            "1000/1000 [==============================] - 51s 51ms/step - loss: 0.4152 - accuracy: 0.8087 - val_loss: 0.3801 - val_accuracy: 0.8311\n",
            "Epoch 99/150\n",
            " 999/1000 [============================>.] - ETA: 0s - loss: 0.4087 - accuracy: 0.8157INFO:tensorflow:Assets written to: /content/checkpoints/celebA_pretraining_32_0.001_256.tf/assets\n"
          ]
        },
        {
          "output_type": "stream",
          "name": "stderr",
          "text": [
            "INFO:tensorflow:Assets written to: /content/checkpoints/celebA_pretraining_32_0.001_256.tf/assets\n"
          ]
        },
        {
          "output_type": "stream",
          "name": "stdout",
          "text": [
            "1000/1000 [==============================] - 53s 53ms/step - loss: 0.4089 - accuracy: 0.8156 - val_loss: 0.3766 - val_accuracy: 0.8316\n",
            "Epoch 100/150\n",
            " 999/1000 [============================>.] - ETA: 0s - loss: 0.4060 - accuracy: 0.8133INFO:tensorflow:Assets written to: /content/checkpoints/celebA_pretraining_32_0.001_256.tf/assets\n"
          ]
        },
        {
          "output_type": "stream",
          "name": "stderr",
          "text": [
            "INFO:tensorflow:Assets written to: /content/checkpoints/celebA_pretraining_32_0.001_256.tf/assets\n"
          ]
        },
        {
          "output_type": "stream",
          "name": "stdout",
          "text": [
            "1000/1000 [==============================] - 52s 52ms/step - loss: 0.4061 - accuracy: 0.8133 - val_loss: 0.3674 - val_accuracy: 0.8395\n",
            "Epoch 101/150\n",
            " 999/1000 [============================>.] - ETA: 0s - loss: 0.4016 - accuracy: 0.8192INFO:tensorflow:Assets written to: /content/checkpoints/celebA_pretraining_32_0.001_256.tf/assets\n"
          ]
        },
        {
          "output_type": "stream",
          "name": "stderr",
          "text": [
            "INFO:tensorflow:Assets written to: /content/checkpoints/celebA_pretraining_32_0.001_256.tf/assets\n"
          ]
        },
        {
          "output_type": "stream",
          "name": "stdout",
          "text": [
            "1000/1000 [==============================] - 52s 52ms/step - loss: 0.4016 - accuracy: 0.8192 - val_loss: 0.3670 - val_accuracy: 0.8392\n",
            "Epoch 102/150\n",
            "1000/1000 [==============================] - ETA: 0s - loss: 0.3942 - accuracy: 0.8226INFO:tensorflow:Assets written to: /content/checkpoints/celebA_pretraining_32_0.001_256.tf/assets\n"
          ]
        },
        {
          "output_type": "stream",
          "name": "stderr",
          "text": [
            "INFO:tensorflow:Assets written to: /content/checkpoints/celebA_pretraining_32_0.001_256.tf/assets\n"
          ]
        },
        {
          "output_type": "stream",
          "name": "stdout",
          "text": [
            "1000/1000 [==============================] - 52s 52ms/step - loss: 0.3942 - accuracy: 0.8226 - val_loss: 0.3571 - val_accuracy: 0.8433\n",
            "Epoch 103/150\n",
            " 999/1000 [============================>.] - ETA: 0s - loss: 0.3932 - accuracy: 0.8253INFO:tensorflow:Assets written to: /content/checkpoints/celebA_pretraining_32_0.001_256.tf/assets\n"
          ]
        },
        {
          "output_type": "stream",
          "name": "stderr",
          "text": [
            "INFO:tensorflow:Assets written to: /content/checkpoints/celebA_pretraining_32_0.001_256.tf/assets\n"
          ]
        },
        {
          "output_type": "stream",
          "name": "stdout",
          "text": [
            "1000/1000 [==============================] - 53s 53ms/step - loss: 0.3931 - accuracy: 0.8253 - val_loss: 0.3515 - val_accuracy: 0.8465\n",
            "Epoch 104/150\n",
            " 999/1000 [============================>.] - ETA: 0s - loss: 0.3851 - accuracy: 0.8300INFO:tensorflow:Assets written to: /content/checkpoints/celebA_pretraining_32_0.001_256.tf/assets\n"
          ]
        },
        {
          "output_type": "stream",
          "name": "stderr",
          "text": [
            "INFO:tensorflow:Assets written to: /content/checkpoints/celebA_pretraining_32_0.001_256.tf/assets\n"
          ]
        },
        {
          "output_type": "stream",
          "name": "stdout",
          "text": [
            "1000/1000 [==============================] - 52s 52ms/step - loss: 0.3851 - accuracy: 0.8299 - val_loss: 0.3504 - val_accuracy: 0.8463\n",
            "Epoch 105/150\n",
            " 999/1000 [============================>.] - ETA: 0s - loss: 0.3797 - accuracy: 0.8309INFO:tensorflow:Assets written to: /content/checkpoints/celebA_pretraining_32_0.001_256.tf/assets\n"
          ]
        },
        {
          "output_type": "stream",
          "name": "stderr",
          "text": [
            "INFO:tensorflow:Assets written to: /content/checkpoints/celebA_pretraining_32_0.001_256.tf/assets\n"
          ]
        },
        {
          "output_type": "stream",
          "name": "stdout",
          "text": [
            "1000/1000 [==============================] - 52s 52ms/step - loss: 0.3799 - accuracy: 0.8309 - val_loss: 0.3432 - val_accuracy: 0.8503\n",
            "Epoch 106/150\n",
            " 999/1000 [============================>.] - ETA: 0s - loss: 0.3733 - accuracy: 0.8353INFO:tensorflow:Assets written to: /content/checkpoints/celebA_pretraining_32_0.001_256.tf/assets\n"
          ]
        },
        {
          "output_type": "stream",
          "name": "stderr",
          "text": [
            "INFO:tensorflow:Assets written to: /content/checkpoints/celebA_pretraining_32_0.001_256.tf/assets\n"
          ]
        },
        {
          "output_type": "stream",
          "name": "stdout",
          "text": [
            "1000/1000 [==============================] - 53s 53ms/step - loss: 0.3732 - accuracy: 0.8354 - val_loss: 0.3358 - val_accuracy: 0.8534\n",
            "Epoch 107/150\n",
            " 999/1000 [============================>.] - ETA: 0s - loss: 0.3657 - accuracy: 0.8384INFO:tensorflow:Assets written to: /content/checkpoints/celebA_pretraining_32_0.001_256.tf/assets\n"
          ]
        },
        {
          "output_type": "stream",
          "name": "stderr",
          "text": [
            "INFO:tensorflow:Assets written to: /content/checkpoints/celebA_pretraining_32_0.001_256.tf/assets\n"
          ]
        },
        {
          "output_type": "stream",
          "name": "stdout",
          "text": [
            "1000/1000 [==============================] - 51s 51ms/step - loss: 0.3656 - accuracy: 0.8385 - val_loss: 0.3298 - val_accuracy: 0.8566\n",
            "Epoch 108/150\n",
            " 999/1000 [============================>.] - ETA: 0s - loss: 0.3648 - accuracy: 0.8406INFO:tensorflow:Assets written to: /content/checkpoints/celebA_pretraining_32_0.001_256.tf/assets\n"
          ]
        },
        {
          "output_type": "stream",
          "name": "stderr",
          "text": [
            "INFO:tensorflow:Assets written to: /content/checkpoints/celebA_pretraining_32_0.001_256.tf/assets\n"
          ]
        },
        {
          "output_type": "stream",
          "name": "stdout",
          "text": [
            "1000/1000 [==============================] - 52s 52ms/step - loss: 0.3649 - accuracy: 0.8405 - val_loss: 0.3261 - val_accuracy: 0.8580\n",
            "Epoch 109/150\n",
            "1000/1000 [==============================] - ETA: 0s - loss: 0.3546 - accuracy: 0.8471INFO:tensorflow:Assets written to: /content/checkpoints/celebA_pretraining_32_0.001_256.tf/assets\n"
          ]
        },
        {
          "output_type": "stream",
          "name": "stderr",
          "text": [
            "INFO:tensorflow:Assets written to: /content/checkpoints/celebA_pretraining_32_0.001_256.tf/assets\n"
          ]
        },
        {
          "output_type": "stream",
          "name": "stdout",
          "text": [
            "1000/1000 [==============================] - 53s 53ms/step - loss: 0.3546 - accuracy: 0.8471 - val_loss: 0.3214 - val_accuracy: 0.8602\n",
            "Epoch 110/150\n",
            "1000/1000 [==============================] - ETA: 0s - loss: 0.3501 - accuracy: 0.8468INFO:tensorflow:Assets written to: /content/checkpoints/celebA_pretraining_32_0.001_256.tf/assets\n"
          ]
        },
        {
          "output_type": "stream",
          "name": "stderr",
          "text": [
            "INFO:tensorflow:Assets written to: /content/checkpoints/celebA_pretraining_32_0.001_256.tf/assets\n"
          ]
        },
        {
          "output_type": "stream",
          "name": "stdout",
          "text": [
            "1000/1000 [==============================] - 52s 52ms/step - loss: 0.3501 - accuracy: 0.8468 - val_loss: 0.3082 - val_accuracy: 0.8677\n",
            "Epoch 111/150\n",
            "1000/1000 [==============================] - ETA: 0s - loss: 0.3386 - accuracy: 0.8508INFO:tensorflow:Assets written to: /content/checkpoints/celebA_pretraining_32_0.001_256.tf/assets\n"
          ]
        },
        {
          "output_type": "stream",
          "name": "stderr",
          "text": [
            "INFO:tensorflow:Assets written to: /content/checkpoints/celebA_pretraining_32_0.001_256.tf/assets\n"
          ]
        },
        {
          "output_type": "stream",
          "name": "stdout",
          "text": [
            "1000/1000 [==============================] - 52s 52ms/step - loss: 0.3386 - accuracy: 0.8508 - val_loss: 0.3037 - val_accuracy: 0.8711\n",
            "Epoch 112/150\n",
            " 999/1000 [============================>.] - ETA: 0s - loss: 0.3334 - accuracy: 0.8551INFO:tensorflow:Assets written to: /content/checkpoints/celebA_pretraining_32_0.001_256.tf/assets\n"
          ]
        },
        {
          "output_type": "stream",
          "name": "stderr",
          "text": [
            "INFO:tensorflow:Assets written to: /content/checkpoints/celebA_pretraining_32_0.001_256.tf/assets\n"
          ]
        },
        {
          "output_type": "stream",
          "name": "stdout",
          "text": [
            "1000/1000 [==============================] - 51s 51ms/step - loss: 0.3335 - accuracy: 0.8551 - val_loss: 0.2986 - val_accuracy: 0.8702\n",
            "Epoch 113/150\n",
            "1000/1000 [==============================] - ETA: 0s - loss: 0.3272 - accuracy: 0.8591INFO:tensorflow:Assets written to: /content/checkpoints/celebA_pretraining_32_0.001_256.tf/assets\n"
          ]
        },
        {
          "output_type": "stream",
          "name": "stderr",
          "text": [
            "INFO:tensorflow:Assets written to: /content/checkpoints/celebA_pretraining_32_0.001_256.tf/assets\n"
          ]
        },
        {
          "output_type": "stream",
          "name": "stdout",
          "text": [
            "1000/1000 [==============================] - 53s 53ms/step - loss: 0.3272 - accuracy: 0.8591 - val_loss: 0.2837 - val_accuracy: 0.8798\n",
            "Epoch 114/150\n",
            "1000/1000 [==============================] - 51s 51ms/step - loss: 0.3153 - accuracy: 0.8647 - val_loss: 0.2936 - val_accuracy: 0.8720\n",
            "Epoch 115/150\n",
            " 999/1000 [============================>.] - ETA: 0s - loss: 0.3098 - accuracy: 0.8667INFO:tensorflow:Assets written to: /content/checkpoints/celebA_pretraining_32_0.001_256.tf/assets\n"
          ]
        },
        {
          "output_type": "stream",
          "name": "stderr",
          "text": [
            "INFO:tensorflow:Assets written to: /content/checkpoints/celebA_pretraining_32_0.001_256.tf/assets\n"
          ]
        },
        {
          "output_type": "stream",
          "name": "stdout",
          "text": [
            "1000/1000 [==============================] - 53s 53ms/step - loss: 0.3097 - accuracy: 0.8668 - val_loss: 0.2673 - val_accuracy: 0.8891\n",
            "Epoch 116/150\n",
            "1000/1000 [==============================] - ETA: 0s - loss: 0.2987 - accuracy: 0.8729INFO:tensorflow:Assets written to: /content/checkpoints/celebA_pretraining_32_0.001_256.tf/assets\n"
          ]
        },
        {
          "output_type": "stream",
          "name": "stderr",
          "text": [
            "INFO:tensorflow:Assets written to: /content/checkpoints/celebA_pretraining_32_0.001_256.tf/assets\n"
          ]
        },
        {
          "output_type": "stream",
          "name": "stdout",
          "text": [
            "1000/1000 [==============================] - 53s 53ms/step - loss: 0.2987 - accuracy: 0.8729 - val_loss: 0.2580 - val_accuracy: 0.8907\n",
            "Epoch 117/150\n",
            " 999/1000 [============================>.] - ETA: 0s - loss: 0.2923 - accuracy: 0.8761INFO:tensorflow:Assets written to: /content/checkpoints/celebA_pretraining_32_0.001_256.tf/assets\n"
          ]
        },
        {
          "output_type": "stream",
          "name": "stderr",
          "text": [
            "INFO:tensorflow:Assets written to: /content/checkpoints/celebA_pretraining_32_0.001_256.tf/assets\n"
          ]
        },
        {
          "output_type": "stream",
          "name": "stdout",
          "text": [
            "1000/1000 [==============================] - 51s 51ms/step - loss: 0.2924 - accuracy: 0.8759 - val_loss: 0.2525 - val_accuracy: 0.8941\n",
            "Epoch 118/150\n",
            "1000/1000 [==============================] - ETA: 0s - loss: 0.2849 - accuracy: 0.8792INFO:tensorflow:Assets written to: /content/checkpoints/celebA_pretraining_32_0.001_256.tf/assets\n"
          ]
        },
        {
          "output_type": "stream",
          "name": "stderr",
          "text": [
            "INFO:tensorflow:Assets written to: /content/checkpoints/celebA_pretraining_32_0.001_256.tf/assets\n"
          ]
        },
        {
          "output_type": "stream",
          "name": "stdout",
          "text": [
            "1000/1000 [==============================] - 51s 51ms/step - loss: 0.2849 - accuracy: 0.8792 - val_loss: 0.2449 - val_accuracy: 0.8974\n",
            "Epoch 119/150\n",
            " 999/1000 [============================>.] - ETA: 0s - loss: 0.2759 - accuracy: 0.8840INFO:tensorflow:Assets written to: /content/checkpoints/celebA_pretraining_32_0.001_256.tf/assets\n"
          ]
        },
        {
          "output_type": "stream",
          "name": "stderr",
          "text": [
            "INFO:tensorflow:Assets written to: /content/checkpoints/celebA_pretraining_32_0.001_256.tf/assets\n"
          ]
        },
        {
          "output_type": "stream",
          "name": "stdout",
          "text": [
            "1000/1000 [==============================] - 53s 53ms/step - loss: 0.2757 - accuracy: 0.8841 - val_loss: 0.2320 - val_accuracy: 0.9055\n",
            "Epoch 120/150\n",
            "1000/1000 [==============================] - 52s 52ms/step - loss: 0.2667 - accuracy: 0.8888 - val_loss: 0.2356 - val_accuracy: 0.9006\n",
            "Epoch 121/150\n",
            " 999/1000 [============================>.] - ETA: 0s - loss: 0.2578 - accuracy: 0.8921INFO:tensorflow:Assets written to: /content/checkpoints/celebA_pretraining_32_0.001_256.tf/assets\n"
          ]
        },
        {
          "output_type": "stream",
          "name": "stderr",
          "text": [
            "INFO:tensorflow:Assets written to: /content/checkpoints/celebA_pretraining_32_0.001_256.tf/assets\n"
          ]
        },
        {
          "output_type": "stream",
          "name": "stdout",
          "text": [
            "1000/1000 [==============================] - 53s 53ms/step - loss: 0.2578 - accuracy: 0.8922 - val_loss: 0.2165 - val_accuracy: 0.9147\n",
            "Epoch 122/150\n",
            " 999/1000 [============================>.] - ETA: 0s - loss: 0.2482 - accuracy: 0.8965INFO:tensorflow:Assets written to: /content/checkpoints/celebA_pretraining_32_0.001_256.tf/assets\n"
          ]
        },
        {
          "output_type": "stream",
          "name": "stderr",
          "text": [
            "INFO:tensorflow:Assets written to: /content/checkpoints/celebA_pretraining_32_0.001_256.tf/assets\n"
          ]
        },
        {
          "output_type": "stream",
          "name": "stdout",
          "text": [
            "1000/1000 [==============================] - 51s 51ms/step - loss: 0.2483 - accuracy: 0.8965 - val_loss: 0.2086 - val_accuracy: 0.9162\n",
            "Epoch 123/150\n",
            "1000/1000 [==============================] - ETA: 0s - loss: 0.2489 - accuracy: 0.8962INFO:tensorflow:Assets written to: /content/checkpoints/celebA_pretraining_32_0.001_256.tf/assets\n"
          ]
        },
        {
          "output_type": "stream",
          "name": "stderr",
          "text": [
            "INFO:tensorflow:Assets written to: /content/checkpoints/celebA_pretraining_32_0.001_256.tf/assets\n"
          ]
        },
        {
          "output_type": "stream",
          "name": "stdout",
          "text": [
            "1000/1000 [==============================] - 51s 51ms/step - loss: 0.2489 - accuracy: 0.8962 - val_loss: 0.2036 - val_accuracy: 0.9201\n",
            "Epoch 124/150\n",
            "1000/1000 [==============================] - ETA: 0s - loss: 0.2359 - accuracy: 0.9032INFO:tensorflow:Assets written to: /content/checkpoints/celebA_pretraining_32_0.001_256.tf/assets\n"
          ]
        },
        {
          "output_type": "stream",
          "name": "stderr",
          "text": [
            "INFO:tensorflow:Assets written to: /content/checkpoints/celebA_pretraining_32_0.001_256.tf/assets\n"
          ]
        },
        {
          "output_type": "stream",
          "name": "stdout",
          "text": [
            "1000/1000 [==============================] - 52s 52ms/step - loss: 0.2359 - accuracy: 0.9032 - val_loss: 0.1948 - val_accuracy: 0.9224\n",
            "Epoch 125/150\n",
            "1000/1000 [==============================] - ETA: 0s - loss: 0.2303 - accuracy: 0.9051INFO:tensorflow:Assets written to: /content/checkpoints/celebA_pretraining_32_0.001_256.tf/assets\n"
          ]
        },
        {
          "output_type": "stream",
          "name": "stderr",
          "text": [
            "INFO:tensorflow:Assets written to: /content/checkpoints/celebA_pretraining_32_0.001_256.tf/assets\n"
          ]
        },
        {
          "output_type": "stream",
          "name": "stdout",
          "text": [
            "1000/1000 [==============================] - 52s 52ms/step - loss: 0.2303 - accuracy: 0.9051 - val_loss: 0.1927 - val_accuracy: 0.9252\n",
            "Epoch 126/150\n",
            "1000/1000 [==============================] - ETA: 0s - loss: 0.2278 - accuracy: 0.9059INFO:tensorflow:Assets written to: /content/checkpoints/celebA_pretraining_32_0.001_256.tf/assets\n"
          ]
        },
        {
          "output_type": "stream",
          "name": "stderr",
          "text": [
            "INFO:tensorflow:Assets written to: /content/checkpoints/celebA_pretraining_32_0.001_256.tf/assets\n"
          ]
        },
        {
          "output_type": "stream",
          "name": "stdout",
          "text": [
            "1000/1000 [==============================] - 52s 52ms/step - loss: 0.2278 - accuracy: 0.9059 - val_loss: 0.1858 - val_accuracy: 0.9260\n",
            "Epoch 127/150\n",
            " 999/1000 [============================>.] - ETA: 0s - loss: 0.2196 - accuracy: 0.9098INFO:tensorflow:Assets written to: /content/checkpoints/celebA_pretraining_32_0.001_256.tf/assets\n"
          ]
        },
        {
          "output_type": "stream",
          "name": "stderr",
          "text": [
            "INFO:tensorflow:Assets written to: /content/checkpoints/celebA_pretraining_32_0.001_256.tf/assets\n"
          ]
        },
        {
          "output_type": "stream",
          "name": "stdout",
          "text": [
            "1000/1000 [==============================] - 51s 51ms/step - loss: 0.2196 - accuracy: 0.9098 - val_loss: 0.1818 - val_accuracy: 0.9288\n",
            "Epoch 128/150\n",
            "1000/1000 [==============================] - ETA: 0s - loss: 0.2154 - accuracy: 0.9112INFO:tensorflow:Assets written to: /content/checkpoints/celebA_pretraining_32_0.001_256.tf/assets\n"
          ]
        },
        {
          "output_type": "stream",
          "name": "stderr",
          "text": [
            "INFO:tensorflow:Assets written to: /content/checkpoints/celebA_pretraining_32_0.001_256.tf/assets\n"
          ]
        },
        {
          "output_type": "stream",
          "name": "stdout",
          "text": [
            "1000/1000 [==============================] - 51s 51ms/step - loss: 0.2154 - accuracy: 0.9112 - val_loss: 0.1789 - val_accuracy: 0.9283\n",
            "Epoch 129/150\n",
            " 999/1000 [============================>.] - ETA: 0s - loss: 0.2094 - accuracy: 0.9153INFO:tensorflow:Assets written to: /content/checkpoints/celebA_pretraining_32_0.001_256.tf/assets\n"
          ]
        },
        {
          "output_type": "stream",
          "name": "stderr",
          "text": [
            "INFO:tensorflow:Assets written to: /content/checkpoints/celebA_pretraining_32_0.001_256.tf/assets\n"
          ]
        },
        {
          "output_type": "stream",
          "name": "stdout",
          "text": [
            "1000/1000 [==============================] - 52s 52ms/step - loss: 0.2094 - accuracy: 0.9153 - val_loss: 0.1736 - val_accuracy: 0.9315\n",
            "Epoch 130/150\n",
            " 999/1000 [============================>.] - ETA: 0s - loss: 0.2052 - accuracy: 0.9164INFO:tensorflow:Assets written to: /content/checkpoints/celebA_pretraining_32_0.001_256.tf/assets\n"
          ]
        },
        {
          "output_type": "stream",
          "name": "stderr",
          "text": [
            "INFO:tensorflow:Assets written to: /content/checkpoints/celebA_pretraining_32_0.001_256.tf/assets\n"
          ]
        },
        {
          "output_type": "stream",
          "name": "stdout",
          "text": [
            "1000/1000 [==============================] - 53s 53ms/step - loss: 0.2052 - accuracy: 0.9164 - val_loss: 0.1708 - val_accuracy: 0.9326\n",
            "Epoch 131/150\n",
            "1000/1000 [==============================] - ETA: 0s - loss: 0.2022 - accuracy: 0.9182INFO:tensorflow:Assets written to: /content/checkpoints/celebA_pretraining_32_0.001_256.tf/assets\n"
          ]
        },
        {
          "output_type": "stream",
          "name": "stderr",
          "text": [
            "INFO:tensorflow:Assets written to: /content/checkpoints/celebA_pretraining_32_0.001_256.tf/assets\n"
          ]
        },
        {
          "output_type": "stream",
          "name": "stdout",
          "text": [
            "1000/1000 [==============================] - 53s 53ms/step - loss: 0.2022 - accuracy: 0.9182 - val_loss: 0.1630 - val_accuracy: 0.9358\n",
            "Epoch 132/150\n",
            "1000/1000 [==============================] - 50s 50ms/step - loss: 0.1960 - accuracy: 0.9205 - val_loss: 0.1720 - val_accuracy: 0.9316\n",
            "Epoch 133/150\n",
            "1000/1000 [==============================] - 50s 50ms/step - loss: 0.1937 - accuracy: 0.9213 - val_loss: 0.1668 - val_accuracy: 0.9328\n",
            "Epoch 134/150\n",
            " 999/1000 [============================>.] - ETA: 0s - loss: 0.1856 - accuracy: 0.9262INFO:tensorflow:Assets written to: /content/checkpoints/celebA_pretraining_32_0.001_256.tf/assets\n"
          ]
        },
        {
          "output_type": "stream",
          "name": "stderr",
          "text": [
            "INFO:tensorflow:Assets written to: /content/checkpoints/celebA_pretraining_32_0.001_256.tf/assets\n"
          ]
        },
        {
          "output_type": "stream",
          "name": "stdout",
          "text": [
            "1000/1000 [==============================] - 51s 51ms/step - loss: 0.1855 - accuracy: 0.9263 - val_loss: 0.1513 - val_accuracy: 0.9410\n",
            "Epoch 135/150\n",
            "1000/1000 [==============================] - ETA: 0s - loss: 0.1825 - accuracy: 0.9274INFO:tensorflow:Assets written to: /content/checkpoints/celebA_pretraining_32_0.001_256.tf/assets\n"
          ]
        },
        {
          "output_type": "stream",
          "name": "stderr",
          "text": [
            "INFO:tensorflow:Assets written to: /content/checkpoints/celebA_pretraining_32_0.001_256.tf/assets\n"
          ]
        },
        {
          "output_type": "stream",
          "name": "stdout",
          "text": [
            "1000/1000 [==============================] - 52s 52ms/step - loss: 0.1825 - accuracy: 0.9274 - val_loss: 0.1500 - val_accuracy: 0.9407\n",
            "Epoch 136/150\n",
            "1000/1000 [==============================] - 51s 51ms/step - loss: 0.1856 - accuracy: 0.9245 - val_loss: 0.1517 - val_accuracy: 0.9398\n",
            "Epoch 137/150\n",
            " 999/1000 [============================>.] - ETA: 0s - loss: 0.1742 - accuracy: 0.9299INFO:tensorflow:Assets written to: /content/checkpoints/celebA_pretraining_32_0.001_256.tf/assets\n"
          ]
        },
        {
          "output_type": "stream",
          "name": "stderr",
          "text": [
            "INFO:tensorflow:Assets written to: /content/checkpoints/celebA_pretraining_32_0.001_256.tf/assets\n"
          ]
        },
        {
          "output_type": "stream",
          "name": "stdout",
          "text": [
            "1000/1000 [==============================] - 53s 53ms/step - loss: 0.1742 - accuracy: 0.9300 - val_loss: 0.1434 - val_accuracy: 0.9436\n",
            "Epoch 138/150\n",
            "1000/1000 [==============================] - ETA: 0s - loss: 0.1772 - accuracy: 0.9292INFO:tensorflow:Assets written to: /content/checkpoints/celebA_pretraining_32_0.001_256.tf/assets\n"
          ]
        },
        {
          "output_type": "stream",
          "name": "stderr",
          "text": [
            "INFO:tensorflow:Assets written to: /content/checkpoints/celebA_pretraining_32_0.001_256.tf/assets\n"
          ]
        },
        {
          "output_type": "stream",
          "name": "stdout",
          "text": [
            "1000/1000 [==============================] - 51s 51ms/step - loss: 0.1772 - accuracy: 0.9292 - val_loss: 0.1402 - val_accuracy: 0.9445\n",
            "Epoch 139/150\n",
            " 999/1000 [============================>.] - ETA: 0s - loss: 0.1712 - accuracy: 0.9324INFO:tensorflow:Assets written to: /content/checkpoints/celebA_pretraining_32_0.001_256.tf/assets\n"
          ]
        },
        {
          "output_type": "stream",
          "name": "stderr",
          "text": [
            "INFO:tensorflow:Assets written to: /content/checkpoints/celebA_pretraining_32_0.001_256.tf/assets\n"
          ]
        },
        {
          "output_type": "stream",
          "name": "stdout",
          "text": [
            "1000/1000 [==============================] - 53s 53ms/step - loss: 0.1710 - accuracy: 0.9325 - val_loss: 0.1373 - val_accuracy: 0.9471\n",
            "Epoch 140/150\n",
            "1000/1000 [==============================] - 51s 51ms/step - loss: 0.1662 - accuracy: 0.9345 - val_loss: 0.1389 - val_accuracy: 0.9463\n",
            "Epoch 141/150\n",
            " 999/1000 [============================>.] - ETA: 0s - loss: 0.1672 - accuracy: 0.9327INFO:tensorflow:Assets written to: /content/checkpoints/celebA_pretraining_32_0.001_256.tf/assets\n"
          ]
        },
        {
          "output_type": "stream",
          "name": "stderr",
          "text": [
            "INFO:tensorflow:Assets written to: /content/checkpoints/celebA_pretraining_32_0.001_256.tf/assets\n"
          ]
        },
        {
          "output_type": "stream",
          "name": "stdout",
          "text": [
            "1000/1000 [==============================] - 52s 52ms/step - loss: 0.1673 - accuracy: 0.9327 - val_loss: 0.1368 - val_accuracy: 0.9467\n",
            "Epoch 142/150\n",
            " 999/1000 [============================>.] - ETA: 0s - loss: 0.1610 - accuracy: 0.9369INFO:tensorflow:Assets written to: /content/checkpoints/celebA_pretraining_32_0.001_256.tf/assets\n"
          ]
        },
        {
          "output_type": "stream",
          "name": "stderr",
          "text": [
            "INFO:tensorflow:Assets written to: /content/checkpoints/celebA_pretraining_32_0.001_256.tf/assets\n"
          ]
        },
        {
          "output_type": "stream",
          "name": "stdout",
          "text": [
            "1000/1000 [==============================] - 52s 52ms/step - loss: 0.1609 - accuracy: 0.9370 - val_loss: 0.1317 - val_accuracy: 0.9484\n",
            "Epoch 143/150\n",
            "1000/1000 [==============================] - ETA: 0s - loss: 0.1624 - accuracy: 0.9363INFO:tensorflow:Assets written to: /content/checkpoints/celebA_pretraining_32_0.001_256.tf/assets\n"
          ]
        },
        {
          "output_type": "stream",
          "name": "stderr",
          "text": [
            "INFO:tensorflow:Assets written to: /content/checkpoints/celebA_pretraining_32_0.001_256.tf/assets\n"
          ]
        },
        {
          "output_type": "stream",
          "name": "stdout",
          "text": [
            "1000/1000 [==============================] - 51s 51ms/step - loss: 0.1624 - accuracy: 0.9363 - val_loss: 0.1304 - val_accuracy: 0.9482\n",
            "Epoch 144/150\n",
            "1000/1000 [==============================] - 51s 51ms/step - loss: 0.1551 - accuracy: 0.9391 - val_loss: 0.1311 - val_accuracy: 0.9486\n",
            "Epoch 145/150\n",
            " 999/1000 [============================>.] - ETA: 0s - loss: 0.1527 - accuracy: 0.9403INFO:tensorflow:Assets written to: /content/checkpoints/celebA_pretraining_32_0.001_256.tf/assets\n"
          ]
        },
        {
          "output_type": "stream",
          "name": "stderr",
          "text": [
            "INFO:tensorflow:Assets written to: /content/checkpoints/celebA_pretraining_32_0.001_256.tf/assets\n"
          ]
        },
        {
          "output_type": "stream",
          "name": "stdout",
          "text": [
            "1000/1000 [==============================] - 52s 52ms/step - loss: 0.1526 - accuracy: 0.9403 - val_loss: 0.1266 - val_accuracy: 0.9507\n",
            "Epoch 146/150\n",
            "1000/1000 [==============================] - ETA: 0s - loss: 0.1580 - accuracy: 0.9372INFO:tensorflow:Assets written to: /content/checkpoints/celebA_pretraining_32_0.001_256.tf/assets\n"
          ]
        },
        {
          "output_type": "stream",
          "name": "stderr",
          "text": [
            "INFO:tensorflow:Assets written to: /content/checkpoints/celebA_pretraining_32_0.001_256.tf/assets\n"
          ]
        },
        {
          "output_type": "stream",
          "name": "stdout",
          "text": [
            "1000/1000 [==============================] - 52s 52ms/step - loss: 0.1580 - accuracy: 0.9372 - val_loss: 0.1259 - val_accuracy: 0.9510\n",
            "Epoch 147/150\n",
            "1000/1000 [==============================] - ETA: 0s - loss: 0.1501 - accuracy: 0.9412INFO:tensorflow:Assets written to: /content/checkpoints/celebA_pretraining_32_0.001_256.tf/assets\n"
          ]
        },
        {
          "output_type": "stream",
          "name": "stderr",
          "text": [
            "INFO:tensorflow:Assets written to: /content/checkpoints/celebA_pretraining_32_0.001_256.tf/assets\n"
          ]
        },
        {
          "output_type": "stream",
          "name": "stdout",
          "text": [
            "1000/1000 [==============================] - 52s 52ms/step - loss: 0.1501 - accuracy: 0.9412 - val_loss: 0.1223 - val_accuracy: 0.9513\n",
            "Epoch 148/150\n",
            " 999/1000 [============================>.] - ETA: 0s - loss: 0.1503 - accuracy: 0.9403INFO:tensorflow:Assets written to: /content/checkpoints/celebA_pretraining_32_0.001_256.tf/assets\n"
          ]
        },
        {
          "output_type": "stream",
          "name": "stderr",
          "text": [
            "INFO:tensorflow:Assets written to: /content/checkpoints/celebA_pretraining_32_0.001_256.tf/assets\n"
          ]
        },
        {
          "output_type": "stream",
          "name": "stdout",
          "text": [
            "1000/1000 [==============================] - 51s 51ms/step - loss: 0.1503 - accuracy: 0.9403 - val_loss: 0.1210 - val_accuracy: 0.9523\n",
            "Epoch 149/150\n",
            " 999/1000 [============================>.] - ETA: 0s - loss: 0.1455 - accuracy: 0.9435INFO:tensorflow:Assets written to: /content/checkpoints/celebA_pretraining_32_0.001_256.tf/assets\n"
          ]
        },
        {
          "output_type": "stream",
          "name": "stderr",
          "text": [
            "INFO:tensorflow:Assets written to: /content/checkpoints/celebA_pretraining_32_0.001_256.tf/assets\n"
          ]
        },
        {
          "output_type": "stream",
          "name": "stdout",
          "text": [
            "1000/1000 [==============================] - 51s 51ms/step - loss: 0.1456 - accuracy: 0.9436 - val_loss: 0.1194 - val_accuracy: 0.9531\n",
            "Epoch 150/150\n",
            "1000/1000 [==============================] - ETA: 0s - loss: 0.1438 - accuracy: 0.9441INFO:tensorflow:Assets written to: /content/checkpoints/celebA_pretraining_32_0.001_256.tf/assets\n"
          ]
        },
        {
          "output_type": "stream",
          "name": "stderr",
          "text": [
            "INFO:tensorflow:Assets written to: /content/checkpoints/celebA_pretraining_32_0.001_256.tf/assets\n"
          ]
        },
        {
          "output_type": "stream",
          "name": "stdout",
          "text": [
            "\b\b\b\b\b\b\b\b\b\b\b\b\b\b\b\b\b\b\b\b\b\b\b\b\b\b\b\b\b\b\b\b\b\b\b\b\b\b\b\b\b\b\b\b\b\b\b\b\b\b\b\b\b\b\b\b\b\b\b\b\b\b\b\b\b\b\b\b\b\b\b\b\b\b\b\b\b\b\b\b\b\b\b\b\b\b\r1000/1000 [==============================] - 52s 52ms/step - loss: 0.1438 - accuracy: 0.9441 - val_loss: 0.1178 - val_accuracy: 0.9532\n"
          ]
        }
      ]
    },
    {
      "cell_type": "code",
      "metadata": {
        "colab": {
          "base_uri": "https://localhost:8080/"
        },
        "id": "3BJbbzT3zIJP",
        "outputId": "9372c42d-f1ad-4417-bd3e-5c5162a2b75f"
      },
      "source": [
        "results = gender_model.evaluate(celeb_a_test_data)"
      ],
      "execution_count": 15,
      "outputs": [
        {
          "output_type": "stream",
          "name": "stdout",
          "text": [
            "19962/19962 [==============================] - 77s 4ms/step - loss: 0.1348 - accuracy: 0.9453\n"
          ]
        }
      ]
    },
    {
      "cell_type": "code",
      "metadata": {
        "id": "VlJluqn0DRLd"
      },
      "source": [
        "loss=[]\n",
        "accuracy=[]\n",
        "val_loss=[]\n",
        "val_accuracy=[]\n",
        "loss=history.history['loss'].copy()\n",
        "val_loss=history.history['val_loss'].copy()\n",
        "val_accuracy=history.history['val_accuracy'].copy()\n",
        "accuracy=history.history['accuracy'].copy()\n",
        "\n",
        "path_1=\"/content/csvlog/csvlog.csv\"\n",
        "df_eval=pd.DataFrame(list(zip(loss,val_loss,val_accuracy,accuracy)),columns=['loss','val_loss','val_accuracy','accuracy'])\n",
        "df_eval.to_csv(path_1 ,index=False)"
      ],
      "execution_count": 18,
      "outputs": []
    },
    {
      "cell_type": "code",
      "metadata": {
        "colab": {
          "base_uri": "https://localhost:8080/",
          "height": 187
        },
        "id": "YZ-PwazV0FH1",
        "outputId": "5a9a36d1-c5f3-46dd-8690-185cbd3f19f9"
      },
      "source": [
        "!zip -r /content/baseline_gender_checkpoints.zip /content/checkpoints\n",
        "files.download(\"/content/baseline_gender_checkpoints.zip\")\n",
        "\n",
        "!zip -r /content/baseline_gender_csvlog.zip /content/csvlog\n",
        "files.download(\"/content/baseline_gender_csvlog.zip\")"
      ],
      "execution_count": 20,
      "outputs": [
        {
          "output_type": "stream",
          "name": "stdout",
          "text": [
            "  adding: content/checkpoints/ (stored 0%)\n",
            "  adding: content/checkpoints/celebA_pretraining_32_0.001_256.tf/ (stored 0%)\n",
            "  adding: content/checkpoints/celebA_pretraining_32_0.001_256.tf/variables/ (stored 0%)\n",
            "  adding: content/checkpoints/celebA_pretraining_32_0.001_256.tf/variables/variables.index (deflated 57%)\n",
            "  adding: content/checkpoints/celebA_pretraining_32_0.001_256.tf/variables/variables.data-00000-of-00001 (deflated 7%)\n",
            "  adding: content/checkpoints/celebA_pretraining_32_0.001_256.tf/assets/ (stored 0%)\n",
            "  adding: content/checkpoints/celebA_pretraining_32_0.001_256.tf/keras_metadata.pb (deflated 92%)\n",
            "  adding: content/checkpoints/celebA_pretraining_32_0.001_256.tf/saved_model.pb (deflated 89%)\n"
          ]
        },
        {
          "output_type": "display_data",
          "data": {
            "application/javascript": [
              "\n",
              "    async function download(id, filename, size) {\n",
              "      if (!google.colab.kernel.accessAllowed) {\n",
              "        return;\n",
              "      }\n",
              "      const div = document.createElement('div');\n",
              "      const label = document.createElement('label');\n",
              "      label.textContent = `Downloading \"${filename}\": `;\n",
              "      div.appendChild(label);\n",
              "      const progress = document.createElement('progress');\n",
              "      progress.max = size;\n",
              "      div.appendChild(progress);\n",
              "      document.body.appendChild(div);\n",
              "\n",
              "      const buffers = [];\n",
              "      let downloaded = 0;\n",
              "\n",
              "      const channel = await google.colab.kernel.comms.open(id);\n",
              "      // Send a message to notify the kernel that we're ready.\n",
              "      channel.send({})\n",
              "\n",
              "      for await (const message of channel.messages) {\n",
              "        // Send a message to notify the kernel that we're ready.\n",
              "        channel.send({})\n",
              "        if (message.buffers) {\n",
              "          for (const buffer of message.buffers) {\n",
              "            buffers.push(buffer);\n",
              "            downloaded += buffer.byteLength;\n",
              "            progress.value = downloaded;\n",
              "          }\n",
              "        }\n",
              "      }\n",
              "      const blob = new Blob(buffers, {type: 'application/binary'});\n",
              "      const a = document.createElement('a');\n",
              "      a.href = window.URL.createObjectURL(blob);\n",
              "      a.download = filename;\n",
              "      div.appendChild(a);\n",
              "      a.click();\n",
              "      div.remove();\n",
              "    }\n",
              "  "
            ],
            "text/plain": [
              "<IPython.core.display.Javascript object>"
            ]
          },
          "metadata": {}
        },
        {
          "output_type": "display_data",
          "data": {
            "application/javascript": [
              "download(\"download_b1bdf3b4-9a80-4ac1-bda1-ef066f243e77\", \"baseline_gender_checkpoints.zip\", 53263229)"
            ],
            "text/plain": [
              "<IPython.core.display.Javascript object>"
            ]
          },
          "metadata": {}
        },
        {
          "output_type": "stream",
          "name": "stdout",
          "text": [
            "  adding: content/csvlog/ (stored 0%)\n",
            "  adding: content/csvlog/csvlog.csv (deflated 59%)\n"
          ]
        },
        {
          "output_type": "display_data",
          "data": {
            "application/javascript": [
              "\n",
              "    async function download(id, filename, size) {\n",
              "      if (!google.colab.kernel.accessAllowed) {\n",
              "        return;\n",
              "      }\n",
              "      const div = document.createElement('div');\n",
              "      const label = document.createElement('label');\n",
              "      label.textContent = `Downloading \"${filename}\": `;\n",
              "      div.appendChild(label);\n",
              "      const progress = document.createElement('progress');\n",
              "      progress.max = size;\n",
              "      div.appendChild(progress);\n",
              "      document.body.appendChild(div);\n",
              "\n",
              "      const buffers = [];\n",
              "      let downloaded = 0;\n",
              "\n",
              "      const channel = await google.colab.kernel.comms.open(id);\n",
              "      // Send a message to notify the kernel that we're ready.\n",
              "      channel.send({})\n",
              "\n",
              "      for await (const message of channel.messages) {\n",
              "        // Send a message to notify the kernel that we're ready.\n",
              "        channel.send({})\n",
              "        if (message.buffers) {\n",
              "          for (const buffer of message.buffers) {\n",
              "            buffers.push(buffer);\n",
              "            downloaded += buffer.byteLength;\n",
              "            progress.value = downloaded;\n",
              "          }\n",
              "        }\n",
              "      }\n",
              "      const blob = new Blob(buffers, {type: 'application/binary'});\n",
              "      const a = document.createElement('a');\n",
              "      a.href = window.URL.createObjectURL(blob);\n",
              "      a.download = filename;\n",
              "      div.appendChild(a);\n",
              "      a.click();\n",
              "      div.remove();\n",
              "    }\n",
              "  "
            ],
            "text/plain": [
              "<IPython.core.display.Javascript object>"
            ]
          },
          "metadata": {}
        },
        {
          "output_type": "display_data",
          "data": {
            "application/javascript": [
              "download(\"download_f4a7b41d-4d0b-473d-882e-8e0547ed7f75\", \"baseline_gender_csvlog.zip\", 5003)"
            ],
            "text/plain": [
              "<IPython.core.display.Javascript object>"
            ]
          },
          "metadata": {}
        }
      ]
    },
    {
      "cell_type": "code",
      "metadata": {
        "id": "FBdQLzIz016P"
      },
      "source": [
        ""
      ],
      "execution_count": null,
      "outputs": []
    }
  ]
}