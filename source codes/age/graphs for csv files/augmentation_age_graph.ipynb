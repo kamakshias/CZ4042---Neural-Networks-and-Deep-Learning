{
  "nbformat": 4,
  "nbformat_minor": 0,
  "metadata": {
    "kernelspec": {
      "display_name": "Python 3",
      "language": "python",
      "name": "python3"
    },
    "language_info": {
      "codemirror_mode": {
        "name": "ipython",
        "version": 3
      },
      "file_extension": ".py",
      "mimetype": "text/x-python",
      "name": "python",
      "nbconvert_exporter": "python",
      "pygments_lexer": "ipython3",
      "version": "3.7.6"
    },
    "colab": {
      "name": "augmentation_age_graph",
      "provenance": []
    }
  },
  "cells": [
    {
      "cell_type": "code",
      "metadata": {
        "id": "LbVTFWFIxVa9"
      },
      "source": [
        "import pandas as pd\n",
        "import numpy as np\n",
        "import matplotlib.pyplot as plt\n",
        "import pylab as pyl\n"
      ],
      "execution_count": 63,
      "outputs": []
    },
    {
      "cell_type": "code",
      "metadata": {
        "id": "ULkqiGL_xVbE"
      },
      "source": [
        "df_aug = pd.read_csv('/content/augmentation_csvlog_age.csv')\n"
      ],
      "execution_count": 64,
      "outputs": []
    },
    {
      "cell_type": "code",
      "metadata": {
        "id": "AGG5VK38xVbF"
      },
      "source": [
        "def df_to_list(df):\n",
        "    data2=[]\n",
        "    for i in range(len(df)):\n",
        "        data2.append(df['val_accuracy'][i])\n",
        "    return data2\n",
        "\n",
        "def df_to_list_2(df):\n",
        "    data2=[]\n",
        "    for i in range(len(df)):\n",
        "        data2.append(df['accuracy'][i])\n",
        "    return data2"
      ],
      "execution_count": 65,
      "outputs": []
    },
    {
      "cell_type": "code",
      "metadata": {
        "id": "fItoz_EkxVbG"
      },
      "source": [
        "df_aug_val=df_aug_train=[]\n",
        "df_aug_val=df_to_list(df_aug)\n",
        "df_aug_train=df_to_list_2(df_aug)"
      ],
      "execution_count": 66,
      "outputs": []
    },
    {
      "cell_type": "code",
      "metadata": {
        "colab": {
          "base_uri": "https://localhost:8080/",
          "height": 312
        },
        "id": "f63VOHqNxVbH",
        "outputId": "868929f6-3faf-4794-b53a-271df1931a41"
      },
      "source": [
        "pyl.plot(df_aug_val)\n",
        "pyl.plot(df_aug_train)\n",
        "pyl.title('Data augmentation gender model accuracy')\n",
        "pyl.ylabel('accuracy')\n",
        "pyl.xlabel('epoch')\n",
        "pyl.legend(['val', 'train'], loc='upper left')\n"
      ],
      "execution_count": 67,
      "outputs": [
        {
          "output_type": "execute_result",
          "data": {
            "text/plain": [
              "<matplotlib.legend.Legend at 0x7ff6af926c90>"
            ]
          },
          "metadata": {},
          "execution_count": 67
        },
        {
          "output_type": "display_data",
          "data": {
            "image/png": "[encoded data removed]",
            "text/plain": [
              "<Figure size 432x288 with 1 Axes>"
            ]
          },
          "metadata": {
            "needs_background": "light"
          }
        }
      ]
    },
    {
      "cell_type": "code",
      "metadata": {
        "id": "rhZ7A0NXYbR2"
      },
      "source": [
        ""
      ],
      "execution_count": null,
      "outputs": []
    }
  ]
}